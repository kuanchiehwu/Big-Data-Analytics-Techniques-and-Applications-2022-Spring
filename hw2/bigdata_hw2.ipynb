{
  "nbformat": 4,
  "nbformat_minor": 0,
  "metadata": {
    "colab": {
      "name": "bigdata_hw2.ipynb",
      "provenance": [],
      "collapsed_sections": []
    },
    "kernelspec": {
      "name": "python3",
      "display_name": "Python 3"
    },
    "language_info": {
      "name": "python"
    }
  },
  "cells": [
    {
      "cell_type": "markdown",
      "source": [
        "Big Data Analytics Techniques and Applications HW2"
      ],
      "metadata": {
        "id": "r0nRb6vNMoWe"
      }
    },
    {
      "cell_type": "code",
      "execution_count": null,
      "metadata": {
        "colab": {
          "base_uri": "https://localhost:8080/"
        },
        "id": "1XZoWhvC-a5D",
        "outputId": "622391dc-753d-4a31-b931-31bc809b4fcf"
      },
      "outputs": [
        {
          "output_type": "stream",
          "name": "stdout",
          "text": [
            "Reading package lists... Done\n",
            "Building dependency tree       \n",
            "Reading state information... Done\n",
            "openjdk-8-jre-headless is already the newest version (8u312-b07-0ubuntu1~18.04).\n",
            "0 upgraded, 0 newly installed, 0 to remove and 39 not upgraded.\n",
            "Requirement already satisfied: pyspark in /usr/local/lib/python3.7/dist-packages (3.2.1)\n",
            "Requirement already satisfied: py4j==0.10.9.3 in /usr/local/lib/python3.7/dist-packages (from pyspark) (0.10.9.3)\n"
          ]
        }
      ],
      "source": [
        "!apt-get -y install openjdk-8-jre-headless\n",
        "!pip install pyspark"
      ]
    },
    {
      "cell_type": "code",
      "source": [
        "from google.colab import drive\n",
        "import pandas as pd\n",
        "import numpy as np\n",
        "import os\n",
        "import glob\n",
        "from pyspark.sql import SparkSession\n",
        "from pyspark import SparkContext\n",
        "from pyspark.sql.types import IntegerType\n",
        "from pyspark.sql import functions as F\n",
        "from pyspark.sql.functions import col, when, lit, coalesce, greatest\n",
        "\n",
        "drive.mount('/content/gdrive')\n",
        "# files = glob.glob(os.path.join('/content/gdrive/My Drive/bigdata/hw2', '*.csv'))\n",
        "path = '/content/gdrive/My Drive/bigdata/hw2/'\n",
        "\n",
        "spark = SparkSession.builder \\\n",
        "      .master(\"local[1]\") \\\n",
        "      .appName(\"SparkByExamples.com\") \\\n",
        "      .getOrCreate() "
      ],
      "metadata": {
        "id": "o2UKuD0r_ZI2",
        "colab": {
          "base_uri": "https://localhost:8080/"
        },
        "outputId": "c2a3829b-9a9d-4845-9180-6526e2d90aa3"
      },
      "execution_count": null,
      "outputs": [
        {
          "output_type": "stream",
          "name": "stdout",
          "text": [
            "Drive already mounted at /content/gdrive; to attempt to forcibly remount, call drive.mount(\"/content/gdrive\", force_remount=True).\n"
          ]
        }
      ]
    },
    {
      "cell_type": "markdown",
      "source": [
        "**Q1. Find the maximal delays (you should consider both ArrDelay and DepDelay) for each month of 2007.**"
      ],
      "metadata": {
        "id": "YdiCOyf0M8V7"
      }
    },
    {
      "cell_type": "code",
      "source": [
        "file = path + '2007.csv'\n",
        "df = spark.read.csv(file, header=True)\n",
        "# print(df.count())\n",
        "df.printSchema()"
      ],
      "metadata": {
        "colab": {
          "base_uri": "https://localhost:8080/"
        },
        "id": "44US1B_bKzQA",
        "outputId": "3d446979-4903-4245-a69c-4bafb5b8950a"
      },
      "execution_count": null,
      "outputs": [
        {
          "output_type": "stream",
          "name": "stdout",
          "text": [
            "root\n",
            " |-- Year: string (nullable = true)\n",
            " |-- Month: string (nullable = true)\n",
            " |-- DayofMonth: string (nullable = true)\n",
            " |-- DayOfWeek: string (nullable = true)\n",
            " |-- DepTime: string (nullable = true)\n",
            " |-- CRSDepTime: string (nullable = true)\n",
            " |-- ArrTime: string (nullable = true)\n",
            " |-- CRSArrTime: string (nullable = true)\n",
            " |-- UniqueCarrier: string (nullable = true)\n",
            " |-- FlightNum: string (nullable = true)\n",
            " |-- TailNum: string (nullable = true)\n",
            " |-- ActualElapsedTime: string (nullable = true)\n",
            " |-- CRSElapsedTime: string (nullable = true)\n",
            " |-- AirTime: string (nullable = true)\n",
            " |-- ArrDelay: string (nullable = true)\n",
            " |-- DepDelay: string (nullable = true)\n",
            " |-- Origin: string (nullable = true)\n",
            " |-- Dest: string (nullable = true)\n",
            " |-- Distance: string (nullable = true)\n",
            " |-- TaxiIn: string (nullable = true)\n",
            " |-- TaxiOut: string (nullable = true)\n",
            " |-- Cancelled: string (nullable = true)\n",
            " |-- CancellationCode: string (nullable = true)\n",
            " |-- Diverted: string (nullable = true)\n",
            " |-- CarrierDelay: string (nullable = true)\n",
            " |-- WeatherDelay: string (nullable = true)\n",
            " |-- NASDelay: string (nullable = true)\n",
            " |-- SecurityDelay: string (nullable = true)\n",
            " |-- LateAircraftDelay: string (nullable = true)\n",
            "\n"
          ]
        }
      ]
    },
    {
      "cell_type": "code",
      "source": [
        "df = df.withColumn('ArrDelay', df['ArrDelay'].cast(IntegerType()))\n",
        "df = df.withColumn('DepDelay', df['DepDelay'].cast(IntegerType()))\n",
        "\n",
        "df.printSchema()"
      ],
      "metadata": {
        "colab": {
          "base_uri": "https://localhost:8080/"
        },
        "id": "pQWQjVUGX10o",
        "outputId": "83f72e8b-9a2c-4a5a-a8b5-ae1208bfbacd"
      },
      "execution_count": null,
      "outputs": [
        {
          "output_type": "stream",
          "name": "stdout",
          "text": [
            "root\n",
            " |-- Year: string (nullable = true)\n",
            " |-- Month: string (nullable = true)\n",
            " |-- DayofMonth: string (nullable = true)\n",
            " |-- DayOfWeek: string (nullable = true)\n",
            " |-- DepTime: string (nullable = true)\n",
            " |-- CRSDepTime: string (nullable = true)\n",
            " |-- ArrTime: string (nullable = true)\n",
            " |-- CRSArrTime: string (nullable = true)\n",
            " |-- UniqueCarrier: string (nullable = true)\n",
            " |-- FlightNum: string (nullable = true)\n",
            " |-- TailNum: string (nullable = true)\n",
            " |-- ActualElapsedTime: string (nullable = true)\n",
            " |-- CRSElapsedTime: string (nullable = true)\n",
            " |-- AirTime: string (nullable = true)\n",
            " |-- ArrDelay: integer (nullable = true)\n",
            " |-- DepDelay: integer (nullable = true)\n",
            " |-- Origin: string (nullable = true)\n",
            " |-- Dest: string (nullable = true)\n",
            " |-- Distance: string (nullable = true)\n",
            " |-- TaxiIn: string (nullable = true)\n",
            " |-- TaxiOut: string (nullable = true)\n",
            " |-- Cancelled: string (nullable = true)\n",
            " |-- CancellationCode: string (nullable = true)\n",
            " |-- Diverted: string (nullable = true)\n",
            " |-- CarrierDelay: string (nullable = true)\n",
            " |-- WeatherDelay: string (nullable = true)\n",
            " |-- NASDelay: string (nullable = true)\n",
            " |-- SecurityDelay: string (nullable = true)\n",
            " |-- LateAircraftDelay: string (nullable = true)\n",
            "\n"
          ]
        }
      ]
    },
    {
      "cell_type": "code",
      "source": [
        "dfDelay = df.groupby('Month').agg(F.max('ArrDelay').alias('MaxArrDelay'), \\\n",
        "                  F.max('DepDelay').alias('MaxDepDelay'))\n",
        "minf = lit(float(\"-inf\"))\n",
        "delaymax = greatest(*[coalesce(col(x), minf) for x in ['MaxArrDelay', 'MaxDepDelay']])\n",
        "dfDelay.withColumn(\"MaxDelay\", delaymax).show()"
      ],
      "metadata": {
        "colab": {
          "base_uri": "https://localhost:8080/"
        },
        "id": "zFIJApoPOekE",
        "outputId": "1627be62-438e-4293-db38-7ddfb6e3a908"
      },
      "execution_count": null,
      "outputs": [
        {
          "output_type": "stream",
          "name": "stdout",
          "text": [
            "+-----+-----------+-----------+--------+\n",
            "|Month|MaxArrDelay|MaxDepDelay|MaxDelay|\n",
            "+-----+-----------+-----------+--------+\n",
            "|    3|       1564|       1547|  1564.0|\n",
            "|    1|       1426|       1406|  1426.0|\n",
            "|    2|       1359|       1340|  1359.0|\n",
            "|    5|       1429|       1416|  1429.0|\n",
            "|    4|       1402|       1415|  1415.0|\n",
            "|    7|       1386|       1369|  1386.0|\n",
            "|    6|       1351|       1360|  1360.0|\n",
            "|    8|       1472|       1449|  1472.0|\n",
            "|    9|       1665|       1689|  1689.0|\n",
            "|   10|       2598|       2601|  2601.0|\n",
            "|   11|       1146|       1137|  1146.0|\n",
            "|   12|       1942|       1956|  1956.0|\n",
            "+-----+-----------+-----------+--------+\n",
            "\n"
          ]
        }
      ]
    },
    {
      "cell_type": "code",
      "source": [
        "# for m in range(1, 13):\n",
        "#     new_df = df.filter(df['Month'] == str(m))\n",
        "#     max_arrdelay = new_df.agg({\"ArrDelay\": \"max\"}).collect()[0][0]\n",
        "#     max_depdelay = new_df.agg({\"DepDelay\": \"max\"}).collect()[0][0]\n",
        "\n",
        "#     maxDelay = max(max_arrdelay, max_depdelay)\n",
        "\n",
        "#     print('2017/{} MaxDelay:{}, with ArrDelay:{} and DepDelay:{}'.format(m, maxDelay, max_arrdelay, max_depdelay))"
      ],
      "metadata": {
        "id": "hUpFPeD7MZdt"
      },
      "execution_count": null,
      "outputs": []
    },
    {
      "cell_type": "markdown",
      "source": [
        "**Q2. How many flights were delayed caused by security between 2000 ~ 2005? Please show the counting for each year.**"
      ],
      "metadata": {
        "id": "qHA-RHZcrdo7"
      }
    },
    {
      "cell_type": "code",
      "source": [
        "files = []\n",
        "for i in range(2000, 2005+1):\n",
        "    files.append(path + str(i) + '.csv')\n",
        "print(files)\n",
        "df = spark.read.csv(files, header=True)"
      ],
      "metadata": {
        "colab": {
          "base_uri": "https://localhost:8080/"
        },
        "id": "D6rgWUfTBQzR",
        "outputId": "f41420d1-cf45-4fc6-e47f-3c6991adfa3f"
      },
      "execution_count": null,
      "outputs": [
        {
          "output_type": "stream",
          "name": "stdout",
          "text": [
            "['/content/gdrive/My Drive/bigdata/hw2/2000.csv', '/content/gdrive/My Drive/bigdata/hw2/2001.csv', '/content/gdrive/My Drive/bigdata/hw2/2002.csv', '/content/gdrive/My Drive/bigdata/hw2/2003.csv', '/content/gdrive/My Drive/bigdata/hw2/2004.csv', '/content/gdrive/My Drive/bigdata/hw2/2005.csv']\n"
          ]
        }
      ]
    },
    {
      "cell_type": "code",
      "source": [
        "df = df.withColumn('SecurityDelay', df['SecurityDelay'].cast(IntegerType()))\n",
        "new_column = when(col('SecurityDelay') > 0, 1).otherwise(0)\n",
        "\n",
        "df = df.withColumn('HasSecDelay', new_column)\n",
        "df.show()"
      ],
      "metadata": {
        "colab": {
          "base_uri": "https://localhost:8080/"
        },
        "id": "PLT-BS_RDk9Y",
        "outputId": "85f2dabd-7fb5-4bea-fa2a-049d56ed6940"
      },
      "execution_count": null,
      "outputs": [
        {
          "output_type": "stream",
          "name": "stdout",
          "text": [
            "+----+-----+----------+---------+-------+----------+-------+----------+-------------+---------+-------+-----------------+--------------+-------+--------+--------+------+----+--------+------+-------+---------+----------------+--------+------------+------------+--------+-------------+-----------------+-----------+\n",
            "|Year|Month|DayofMonth|DayOfWeek|DepTime|CRSDepTime|ArrTime|CRSArrTime|UniqueCarrier|FlightNum|TailNum|ActualElapsedTime|CRSElapsedTime|AirTime|ArrDelay|DepDelay|Origin|Dest|Distance|TaxiIn|TaxiOut|Cancelled|CancellationCode|Diverted|CarrierDelay|WeatherDelay|NASDelay|SecurityDelay|LateAircraftDelay|HasSecDelay|\n",
            "+----+-----+----------+---------+-------+----------+-------+----------+-------------+---------+-------+-----------------+--------------+-------+--------+--------+------+----+--------+------+-------+---------+----------------+--------+------------+------------+--------+-------------+-----------------+-----------+\n",
            "|2000|    1|        28|        5|   1647|      1647|   1906|      1859|           HP|      154| N808AW|              259|           252|    233|       7|       0|   ATL| PHX|    1587|    15|     11|        0|              NA|       0|          NA|          NA|      NA|         null|               NA|          0|\n",
            "|2000|    1|        29|        6|   1648|      1647|   1939|      1859|           HP|      154| N653AW|              291|           252|    239|      40|       1|   ATL| PHX|    1587|     5|     47|        0|              NA|       0|          NA|          NA|      NA|         null|               NA|          0|\n",
            "|2000|    1|        30|        7|     NA|      1647|     NA|      1859|           HP|      154| N801AW|               NA|           252|     NA|      NA|      NA|   ATL| PHX|    1587|     0|      0|        1|              NA|       0|          NA|          NA|      NA|         null|               NA|          0|\n",
            "|2000|    1|        31|        1|   1645|      1647|   1852|      1859|           HP|      154| N806AW|              247|           252|    226|      -7|      -2|   ATL| PHX|    1587|     7|     14|        0|              NA|       0|          NA|          NA|      NA|         null|               NA|          0|\n",
            "|2000|    1|         1|        6|    842|       846|   1057|      1101|           HP|      609| N158AW|              255|           255|    244|      -4|      -4|   ATL| PHX|    1587|     3|      8|        0|              NA|       0|          NA|          NA|      NA|         null|               NA|          0|\n",
            "|2000|    1|         2|        7|    849|       846|   1148|      1101|           HP|      609| N656AW|              299|           255|    267|      47|       3|   ATL| PHX|    1587|     8|     24|        0|              NA|       0|          NA|          NA|      NA|         null|               NA|          0|\n",
            "|2000|    1|         3|        1|    844|       846|   1121|      1101|           HP|      609| N803AW|              277|           255|    244|      20|      -2|   ATL| PHX|    1587|     6|     27|        0|              NA|       0|          NA|          NA|      NA|         null|               NA|          0|\n",
            "|2000|    1|         1|        6|   1702|      1657|   1912|      1908|           HP|      611| N652AW|              250|           251|    232|       4|       5|   ATL| PHX|    1587|     5|     13|        0|              NA|       0|          NA|          NA|      NA|         null|               NA|          0|\n",
            "|2000|    1|         2|        7|   1658|      1657|   1901|      1908|           HP|      611| N807AW|              243|           251|    233|      -7|       1|   ATL| PHX|    1587|     3|      7|        0|              NA|       0|          NA|          NA|      NA|         null|               NA|          0|\n",
            "|2000|    1|         3|        1|   1656|      1657|   1922|      1908|           HP|      611| N807AW|              266|           251|    241|      14|      -1|   ATL| PHX|    1587|     5|     20|        0|              NA|       0|          NA|          NA|      NA|         null|               NA|          0|\n",
            "|2000|    1|         4|        2|   1955|      1932|   2230|      2153|           HP|      613| N509DC|              275|           261|    232|      37|      23|   ATL| PHX|    1587|     5|     38|        0|              NA|       0|          NA|          NA|      NA|         null|               NA|          0|\n",
            "|2000|    1|         5|        3|   1934|      1932|   2133|      2153|           HP|      613| N509DC|              239|           261|    224|     -20|       2|   ATL| PHX|    1587|     5|     10|        0|              NA|       0|          NA|          NA|      NA|         null|               NA|          0|\n",
            "|2000|    1|         6|        4|   1929|      1932|   2125|      2153|           HP|      613| N303AW|              236|           261|    220|     -28|      -3|   ATL| PHX|    1587|     5|     11|        0|              NA|       0|          NA|          NA|      NA|         null|               NA|          0|\n",
            "|2000|    1|         7|        5|   1932|      1932|   2146|      2153|           HP|      613| N173AW|              254|           261|    237|      -7|       0|   ATL| PHX|    1587|     4|     13|        0|              NA|       0|          NA|          NA|      NA|         null|               NA|          0|\n",
            "|2000|    1|         9|        7|   2008|      1932|   2221|      2153|           HP|      613| N168AW|              253|           261|    237|      28|      36|   ATL| PHX|    1587|     4|     12|        0|              NA|       0|          NA|          NA|      NA|         null|               NA|          0|\n",
            "|2000|    1|        10|        1|   1926|      1932|   2147|      2153|           HP|      613| N160AW|              261|           261|    235|      -6|      -6|   ATL| PHX|    1587|     7|     19|        0|              NA|       0|          NA|          NA|      NA|         null|               NA|          0|\n",
            "|2000|    1|        11|        2|   1932|      1932|   2126|      2153|           HP|      613| N160AW|              234|           261|    217|     -27|       0|   ATL| PHX|    1587|     6|     11|        0|              NA|       0|          NA|          NA|      NA|         null|               NA|          0|\n",
            "|2000|    1|        12|        3|   1936|      1932|   2142|      2153|           HP|      613| N322AW|              246|           261|    227|     -11|       4|   ATL| PHX|    1587|     7|     12|        0|              NA|       0|          NA|          NA|      NA|         null|               NA|          0|\n",
            "|2000|    1|        13|        4|   1942|      1932|   2153|      2153|           HP|      613| N160AW|              251|           261|    220|       0|      10|   ATL| PHX|    1587|     5|     26|        0|              NA|       0|          NA|          NA|      NA|         null|               NA|          0|\n",
            "|2000|    1|        14|        5|   1932|      1932|   2131|      2153|           HP|      613| N314AW|              239|           261|    218|     -22|       0|   ATL| PHX|    1587|     6|     15|        0|              NA|       0|          NA|          NA|      NA|         null|               NA|          0|\n",
            "+----+-----+----------+---------+-------+----------+-------+----------+-------------+---------+-------+-----------------+--------------+-------+--------+--------+------+----+--------+------+-------+---------+----------------+--------+------------+------------+--------+-------------+-----------------+-----------+\n",
            "only showing top 20 rows\n",
            "\n"
          ]
        }
      ]
    },
    {
      "cell_type": "code",
      "source": [
        "df.groupby('Year').agg({'HasSecDelay': 'sum'}).show()"
      ],
      "metadata": {
        "colab": {
          "base_uri": "https://localhost:8080/"
        },
        "id": "vDs7v2neC3SY",
        "outputId": "31fc3432-8024-4baf-aa85-0dcdacd59339"
      },
      "execution_count": null,
      "outputs": [
        {
          "output_type": "stream",
          "name": "stdout",
          "text": [
            "+----+----------------+\n",
            "|Year|sum(HasSecDelay)|\n",
            "+----+----------------+\n",
            "|2000|               0|\n",
            "|2001|               0|\n",
            "|2002|               0|\n",
            "|2003|            3740|\n",
            "|2004|            8158|\n",
            "|2005|            6627|\n",
            "+----+----------------+\n",
            "\n"
          ]
        }
      ]
    },
    {
      "cell_type": "markdown",
      "source": [
        "Q3.  List Top 5 airports which occur delays most and least in 2008. (Please show the IATA airport code)"
      ],
      "metadata": {
        "id": "V1VTG6rnZpDu"
      }
    },
    {
      "cell_type": "code",
      "source": [
        "file = path + '2008.csv'\n",
        "df = spark.read.csv(file, header=True)\n",
        "df.printSchema()"
      ],
      "metadata": {
        "colab": {
          "base_uri": "https://localhost:8080/"
        },
        "id": "38snX5svZrLW",
        "outputId": "68c9be8b-655c-436b-d897-c2d6d9d87cc9"
      },
      "execution_count": null,
      "outputs": [
        {
          "output_type": "stream",
          "name": "stdout",
          "text": [
            "root\n",
            " |-- Year: string (nullable = true)\n",
            " |-- Month: string (nullable = true)\n",
            " |-- DayofMonth: string (nullable = true)\n",
            " |-- DayOfWeek: string (nullable = true)\n",
            " |-- DepTime: string (nullable = true)\n",
            " |-- CRSDepTime: string (nullable = true)\n",
            " |-- ArrTime: string (nullable = true)\n",
            " |-- CRSArrTime: string (nullable = true)\n",
            " |-- UniqueCarrier: string (nullable = true)\n",
            " |-- FlightNum: string (nullable = true)\n",
            " |-- TailNum: string (nullable = true)\n",
            " |-- ActualElapsedTime: string (nullable = true)\n",
            " |-- CRSElapsedTime: string (nullable = true)\n",
            " |-- AirTime: string (nullable = true)\n",
            " |-- ArrDelay: string (nullable = true)\n",
            " |-- DepDelay: string (nullable = true)\n",
            " |-- Origin: string (nullable = true)\n",
            " |-- Dest: string (nullable = true)\n",
            " |-- Distance: string (nullable = true)\n",
            " |-- TaxiIn: string (nullable = true)\n",
            " |-- TaxiOut: string (nullable = true)\n",
            " |-- Cancelled: string (nullable = true)\n",
            " |-- CancellationCode: string (nullable = true)\n",
            " |-- Diverted: string (nullable = true)\n",
            " |-- CarrierDelay: string (nullable = true)\n",
            " |-- WeatherDelay: string (nullable = true)\n",
            " |-- NASDelay: string (nullable = true)\n",
            " |-- SecurityDelay: string (nullable = true)\n",
            " |-- LateAircraftDelay: string (nullable = true)\n",
            "\n"
          ]
        }
      ]
    },
    {
      "cell_type": "code",
      "source": [
        "df = df.withColumn('ArrDelay', df['ArrDelay'].cast(IntegerType()))\n",
        "df = df.withColumn('DepDelay', df['DepDelay'].cast(IntegerType()))\n",
        "\n",
        "new_column = when((col('ArrDelay') > 0) | \\\n",
        "                  (col('DepDelay') > 0), 1).otherwise(0)\n",
        "\n",
        "df1 = df.withColumn('HasDelay', new_column)\n",
        "df1.show()"
      ],
      "metadata": {
        "colab": {
          "base_uri": "https://localhost:8080/"
        },
        "id": "7U9or6rA6wlX",
        "outputId": "374c8c20-5c11-484f-e0d6-bd68c6b37b99"
      },
      "execution_count": null,
      "outputs": [
        {
          "output_type": "stream",
          "name": "stdout",
          "text": [
            "+----+-----+----------+---------+-------+----------+-------+----------+-------------+---------+-------+-----------------+--------------+-------+--------+--------+------+----+--------+------+-------+---------+----------------+--------+------------+------------+--------+-------------+-----------------+--------+\n",
            "|Year|Month|DayofMonth|DayOfWeek|DepTime|CRSDepTime|ArrTime|CRSArrTime|UniqueCarrier|FlightNum|TailNum|ActualElapsedTime|CRSElapsedTime|AirTime|ArrDelay|DepDelay|Origin|Dest|Distance|TaxiIn|TaxiOut|Cancelled|CancellationCode|Diverted|CarrierDelay|WeatherDelay|NASDelay|SecurityDelay|LateAircraftDelay|HasDelay|\n",
            "+----+-----+----------+---------+-------+----------+-------+----------+-------------+---------+-------+-----------------+--------------+-------+--------+--------+------+----+--------+------+-------+---------+----------------+--------+------------+------------+--------+-------------+-----------------+--------+\n",
            "|2008|    1|         3|        4|   2003|      1955|   2211|      2225|           WN|      335| N712SW|              128|           150|    116|     -14|       8|   IAD| TPA|     810|     4|      8|        0|            null|       0|          NA|          NA|      NA|           NA|               NA|       1|\n",
            "|2008|    1|         3|        4|    754|       735|   1002|      1000|           WN|     3231| N772SW|              128|           145|    113|       2|      19|   IAD| TPA|     810|     5|     10|        0|            null|       0|          NA|          NA|      NA|           NA|               NA|       1|\n",
            "|2008|    1|         3|        4|    628|       620|    804|       750|           WN|      448| N428WN|               96|            90|     76|      14|       8|   IND| BWI|     515|     3|     17|        0|            null|       0|          NA|          NA|      NA|           NA|               NA|       1|\n",
            "|2008|    1|         3|        4|    926|       930|   1054|      1100|           WN|     1746| N612SW|               88|            90|     78|      -6|      -4|   IND| BWI|     515|     3|      7|        0|            null|       0|          NA|          NA|      NA|           NA|               NA|       0|\n",
            "|2008|    1|         3|        4|   1829|      1755|   1959|      1925|           WN|     3920| N464WN|               90|            90|     77|      34|      34|   IND| BWI|     515|     3|     10|        0|            null|       0|           2|           0|       0|            0|               32|       1|\n",
            "|2008|    1|         3|        4|   1940|      1915|   2121|      2110|           WN|      378| N726SW|              101|           115|     87|      11|      25|   IND| JAX|     688|     4|     10|        0|            null|       0|          NA|          NA|      NA|           NA|               NA|       1|\n",
            "|2008|    1|         3|        4|   1937|      1830|   2037|      1940|           WN|      509| N763SW|              240|           250|    230|      57|      67|   IND| LAS|    1591|     3|      7|        0|            null|       0|          10|           0|       0|            0|               47|       1|\n",
            "|2008|    1|         3|        4|   1039|      1040|   1132|      1150|           WN|      535| N428WN|              233|           250|    219|     -18|      -1|   IND| LAS|    1591|     7|      7|        0|            null|       0|          NA|          NA|      NA|           NA|               NA|       0|\n",
            "|2008|    1|         3|        4|    617|       615|    652|       650|           WN|       11| N689SW|               95|            95|     70|       2|       2|   IND| MCI|     451|     6|     19|        0|            null|       0|          NA|          NA|      NA|           NA|               NA|       1|\n",
            "|2008|    1|         3|        4|   1620|      1620|   1639|      1655|           WN|      810| N648SW|               79|            95|     70|     -16|       0|   IND| MCI|     451|     3|      6|        0|            null|       0|          NA|          NA|      NA|           NA|               NA|       0|\n",
            "|2008|    1|         3|        4|    706|       700|    916|       915|           WN|      100| N690SW|              130|           135|    106|       1|       6|   IND| MCO|     828|     5|     19|        0|            null|       0|          NA|          NA|      NA|           NA|               NA|       1|\n",
            "|2008|    1|         3|        4|   1644|      1510|   1845|      1725|           WN|     1333| N334SW|              121|           135|    107|      80|      94|   IND| MCO|     828|     6|      8|        0|            null|       0|           8|           0|       0|            0|               72|       1|\n",
            "|2008|    1|         3|        4|   1426|      1430|   1426|      1425|           WN|      829| N476WN|               60|            55|     39|       1|      -4|   IND| MDW|     162|     9|     12|        0|            null|       0|          NA|          NA|      NA|           NA|               NA|       1|\n",
            "|2008|    1|         3|        4|    715|       715|    720|       710|           WN|     1016| N765SW|               65|            55|     37|      10|       0|   IND| MDW|     162|     7|     21|        0|            null|       0|          NA|          NA|      NA|           NA|               NA|       1|\n",
            "|2008|    1|         3|        4|   1702|      1700|   1651|      1655|           WN|     1827| N420WN|               49|            55|     35|      -4|       2|   IND| MDW|     162|     4|     10|        0|            null|       0|          NA|          NA|      NA|           NA|               NA|       1|\n",
            "|2008|    1|         3|        4|   1029|      1020|   1021|      1010|           WN|     2272| N263WN|               52|            50|     37|      11|       9|   IND| MDW|     162|     6|      9|        0|            null|       0|          NA|          NA|      NA|           NA|               NA|       1|\n",
            "|2008|    1|         3|        4|   1452|      1425|   1640|      1625|           WN|      675| N286WN|              228|           240|    213|      15|      27|   IND| PHX|    1489|     7|      8|        0|            null|       0|           3|           0|       0|            0|               12|       1|\n",
            "|2008|    1|         3|        4|    754|       745|    940|       955|           WN|     1144| N778SW|              226|           250|    205|     -15|       9|   IND| PHX|    1489|     5|     16|        0|            null|       0|          NA|          NA|      NA|           NA|               NA|       1|\n",
            "|2008|    1|         3|        4|   1323|      1255|   1526|      1510|           WN|        4| N674AA|              123|           135|    110|      16|      28|   IND| TPA|     838|     4|      9|        0|            null|       0|           0|           0|       0|            0|               16|       1|\n",
            "|2008|    1|         3|        4|   1416|      1325|   1512|      1435|           WN|       54| N643SW|               56|            70|     49|      37|      51|   ISP| BWI|     220|     2|      5|        0|            null|       0|          12|           0|       0|            0|               25|       1|\n",
            "+----+-----+----------+---------+-------+----------+-------+----------+-------------+---------+-------+-----------------+--------------+-------+--------+--------+------+----+--------+------+-------+---------+----------------+--------+------------+------------+--------+-------------+-----------------+--------+\n",
            "only showing top 20 rows\n",
            "\n"
          ]
        }
      ]
    },
    {
      "cell_type": "code",
      "source": [
        "df2 = df1.groupby('Origin').agg(F.sum('HasDelay').alias('Count'))\n",
        "df2.orderBy('Count', ascending=False).show(10)\n",
        "df2.orderBy('Count').show(10)"
      ],
      "metadata": {
        "colab": {
          "base_uri": "https://localhost:8080/"
        },
        "id": "1zRGJAMaG93D",
        "outputId": "e9fe58d2-4b3a-48fa-ceb6-d172a616d091"
      },
      "execution_count": null,
      "outputs": [
        {
          "output_type": "stream",
          "name": "stdout",
          "text": [
            "+------+------+\n",
            "|Origin| Count|\n",
            "+------+------+\n",
            "|   ATL|237091|\n",
            "|   ORD|197937|\n",
            "|   DFW|160519|\n",
            "|   DEN|134941|\n",
            "|   LAX|112426|\n",
            "|   IAH|109517|\n",
            "|   PHX|105595|\n",
            "|   LAS| 92915|\n",
            "|   EWR| 89004|\n",
            "|   DTW| 88197|\n",
            "+------+------+\n",
            "only showing top 10 rows\n",
            "\n",
            "+------+-----+\n",
            "|Origin|Count|\n",
            "+------+-----+\n",
            "|   PUB|    2|\n",
            "|   TUP|    3|\n",
            "|   PIR|    4|\n",
            "|   INL|   11|\n",
            "|   BJI|   12|\n",
            "|   BLI|   18|\n",
            "|   HTS|   23|\n",
            "|   WYS|   29|\n",
            "|   SUX|   38|\n",
            "|   ACY|   52|\n",
            "+------+-----+\n",
            "only showing top 10 rows\n",
            "\n"
          ]
        }
      ]
    }
  ]
}